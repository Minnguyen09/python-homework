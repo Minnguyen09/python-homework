{
 "cells": [
  {
   "cell_type": "code",
   "execution_count": 1,
   "id": "2bc008c7-2593-4a0f-b4b2-338858f35696",
   "metadata": {},
   "outputs": [],
   "source": [
    "from pathlib import Path\n",
    "import csv"
   ]
  },
  {
   "cell_type": "code",
   "execution_count": 21,
   "id": "253747f4-c80f-4849-900b-fdf5bc35ecdb",
   "metadata": {},
   "outputs": [],
   "source": [
    "csvpath = Path(\"/Users/thunguyen/Documents/Fintech/python-homework/budget_data.csv\")"
   ]
  },
  {
   "cell_type": "code",
   "execution_count": 22,
   "id": "eb7edc9c-b76e-4436-b027-1da504ffa354",
   "metadata": {},
   "outputs": [],
   "source": [
    "total_month_count = 0\n",
    "total_profit = 0\n",
    "\n",
    "monthly_pnl = 0\n",
    "\n",
    "average_change = 0\n",
    "\n",
    "total_average_change = 0\n",
    "\n",
    "highest_profit = 0\n",
    "highest_loss = 0\n",
    "best_month = \" \"\n",
    "worst_month = \" \"\n",
    "\n",
    "financial_record = []"
   ]
  },
  {
   "cell_type": "code",
   "execution_count": 23,
   "id": "d82ad2e4-f033-4a11-8d6f-1708af3f51cc",
   "metadata": {},
   "outputs": [],
   "source": [
    "def financial_analysis(budget_data):\n",
    "    \n",
    "    global total_month_count\n",
    "    global total_profit\n",
    "    \n",
    "    total_month_count = total_month_count + 1\n",
    "    \n",
    "    total_profit = total_profit + int(row[1])"
   ]
  },
  {
   "cell_type": "code",
   "execution_count": 24,
   "id": "4a679c07-abf6-43ef-932f-0c834011efea",
   "metadata": {},
   "outputs": [],
   "source": [
    "def financial_change(bugdet_data):\n",
    "    \n",
    "    global monthly_pnl\n",
    "    global average_change\n",
    "    global total_average_change\n",
    "    \n",
    "    monthly_pnl = int(row[1])\n",
    "    \n",
    "    if total_month_count == 1:\n",
    "        average_change = 0\n",
    "    else:\n",
    "        average_change = monthly_pnl - average_change\n",
    "        \n",
    "    total_average_change = total_average_change + average_change"
   ]
  },
  {
   "cell_type": "code",
   "execution_count": 25,
   "id": "8c2def3a-17dc-4028-9708-63062c79e9cb",
   "metadata": {},
   "outputs": [],
   "source": [
    "with open(csvpath, 'r') as csvfile:\n",
    "    csvreader = csv.reader(csvfile, delimiter=',')\n",
    "    csv_header = next(csvreader)\n",
    "    csv_header.append(\"Change\")\n",
    "    financial_record.append(csv_header)\n",
    "    \n",
    "    \n",
    "    for row in csvreader:\n",
    "        financial_analysis(row)\n",
    "        financial_change(row)\n",
    "        row.append(average_change)\n",
    "        financial_record.append(row)\n",
    "        average_change = monthly_pnl\n",
    "        \n",
    "        if highest_loss == 0:\n",
    "            highest_loss = int(row[2])\n",
    "            worst_month = str(row[0])\n",
    "        elif int(row[2]) < highest_loss:\n",
    "            highest_loss = int(row[2])\n",
    "            worst_month = str(row[0])\n",
    "        if int(row[2]) > highest_profit:\n",
    "            highest_profit = int(row[2])\n",
    "            best_month = str(row[0])\n",
    "\n",
    "average = round((total_average_change/(total_month_count-1)),2)"
   ]
  },
  {
   "cell_type": "code",
   "execution_count": 26,
   "id": "4cdd5d1d-d4a7-405b-8452-2432ceb139b6",
   "metadata": {},
   "outputs": [
    {
     "name": "stdout",
     "output_type": "stream",
     "text": [
      "Financial Analysis\n",
      "-------------------------------\n",
      "Total months: 86\n",
      "Total: $38382578\n",
      "Average change: $-2315.12\n",
      "Greatest Increase in Profits: Feb-2012 ($1926159)\n",
      "Greatest Decrease in Profits: Sep-2013 ($-2196167)\n"
     ]
    }
   ],
   "source": [
    "print(f\"Financial Analysis\")\n",
    "print(f\"-------------------------------\")\n",
    "print(f\"Total months: {total_month_count}\")\n",
    "print(f\"Total: ${total_profit}\")\n",
    "print(f\"Average change: ${average}\")\n",
    "print(f\"Greatest Increase in Profits: {best_month} (${highest_profit})\")\n",
    "print(f\"Greatest Decrease in Profits: {worst_month} (${highest_loss})\")\n",
    "\n",
    "#results printed through print command"
   ]
  },
  {
   "cell_type": "code",
   "execution_count": null,
   "id": "4b661674-51ed-4491-b799-151f8b86ec4c",
   "metadata": {},
   "outputs": [],
   "source": []
  }
 ],
 "metadata": {
  "kernelspec": {
   "display_name": "Python 3 (ipykernel)",
   "language": "python",
   "name": "python3"
  },
  "language_info": {
   "codemirror_mode": {
    "name": "ipython",
    "version": 3
   },
   "file_extension": ".py",
   "mimetype": "text/x-python",
   "name": "python",
   "nbconvert_exporter": "python",
   "pygments_lexer": "ipython3",
   "version": "3.9.15"
  }
 },
 "nbformat": 4,
 "nbformat_minor": 5
}
